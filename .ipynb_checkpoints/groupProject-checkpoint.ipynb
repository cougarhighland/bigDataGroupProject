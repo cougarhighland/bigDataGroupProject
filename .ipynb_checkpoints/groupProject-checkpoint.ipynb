{
 "cells": [
  {
   "cell_type": "code",
   "execution_count": 1,
   "id": "d4a8dc0e",
   "metadata": {},
   "outputs": [
    {
     "data": {
      "text/plain": [
       "'C:\\\\spark\\\\spark-3.3.1-bin-hadoop2'"
      ]
     },
     "execution_count": 1,
     "metadata": {},
     "output_type": "execute_result"
    }
   ],
   "source": [
    "import findspark\n",
    "findspark.init()\n",
    "findspark.find()"
   ]
  },
  {
   "cell_type": "code",
   "execution_count": 2,
   "id": "4ac387d7",
   "metadata": {},
   "outputs": [],
   "source": [
    "from pyspark.sql import SparkSession\n",
    "from pyspark.sql.functions import *\n",
    "from pyspark.sql.types import *"
   ]
  },
  {
   "cell_type": "code",
   "execution_count": 3,
   "id": "13236a8f",
   "metadata": {},
   "outputs": [],
   "source": [
    "#Using the codes above, we built a spark session and set a name for the application. Then, the data was cached in off-heap memory to avoid storing it directly on disk, and the amount of memory was manually specified.\n",
    "spark = SparkSession.builder.appName('FlightPrices').config(\"spark.memory.offHeap.enabled\",\"true\").config(\"spark.memory.offHeap.size\",\"10g\").getOrCreate()"
   ]
  },
  {
   "cell_type": "code",
   "execution_count": 4,
   "id": "2568ce11",
   "metadata": {},
   "outputs": [],
   "source": [
    "#an escape character to avoid commas in the .csv file when parsing\n",
    "dataframe = spark.read.csv('./data.csv', header=True,escape=\"\\\"\")"
   ]
  },
  {
   "cell_type": "code",
   "execution_count": 5,
   "id": "c4b721d4",
   "metadata": {},
   "outputs": [
    {
     "name": "stdout",
     "output_type": "stream",
     "text": [
      "+--------------------+----------+----------+---------------+------------------+-------------+--------------+-----------+--------------+------------+---------+--------+---------+--------------+-------------------+---------------------------------+------------------------+-------------------------------+----------------------+--------------------------+----------------------------+--------------------+-------------------+----------------------------+-------------------------+----------------+-----------------+\n",
      "|               legId|searchDate|flightDate|startingAirport|destinationAirport|fareBasisCode|travelDuration|elapsedDays|isBasicEconomy|isRefundable|isNonStop|baseFare|totalFare|seatsRemaining|totalTravelDistance|segmentsDepartureTimeEpochSeconds|segmentsDepartureTimeRaw|segmentsArrivalTimeEpochSeconds|segmentsArrivalTimeRaw|segmentsArrivalAirportCode|segmentsDepartureAirportCode| segmentsAirlineName|segmentsAirlineCode|segmentsEquipmentDescription|segmentsDurationInSeconds|segmentsDistance|segmentsCabinCode|\n",
      "+--------------------+----------+----------+---------------+------------------+-------------+--------------+-----------+--------------+------------+---------+--------+---------+--------------+-------------------+---------------------------------+------------------------+-------------------------------+----------------------+--------------------------+----------------------------+--------------------+-------------------+----------------------------+-------------------------+----------------+-----------------+\n",
      "|9ca0e81111c683bec...|2022-04-16|2022-04-17|            ATL|               BOS|     LA0NX0MC|       PT2H29M|          0|         False|       False|     True|  217.67|   248.60|             9|                947|                       1650214620|    2022-04-17T12:57:...|                     1650223560|  2022-04-17T15:26:...|                       BOS|                         ATL|               Delta|                 DL|                 Airbus A321|                     8940|             947|            coach|\n",
      "|98685953630e772a0...|2022-04-16|2022-04-17|            ATL|               BOS|     LA0NX0MC|       PT2H30M|          0|         False|       False|     True|  217.67|   248.60|             4|                947|                       1650191400|    2022-04-17T06:30:...|                     1650200400|  2022-04-17T09:00:...|                       BOS|                         ATL|               Delta|                 DL|                 Airbus A321|                     9000|             947|            coach|\n",
      "|98d90cbc32bfbb05c...|2022-04-16|2022-04-17|            ATL|               BOS|     LA0NX0MC|       PT2H30M|          0|         False|       False|     True|  217.67|   248.60|             9|                947|                       1650209700|    2022-04-17T11:35:...|                     1650218700|  2022-04-17T14:05:...|                       BOS|                         ATL|               Delta|                 DL|              Boeing 757-200|                     9000|             947|            coach|\n",
      "|969a269d38eae583f...|2022-04-16|2022-04-17|            ATL|               BOS|     LA0NX0MC|       PT2H32M|          0|         False|       False|     True|  217.67|   248.60|             8|                947|                       1650218340|    2022-04-17T13:59:...|                     1650227460|  2022-04-17T16:31:...|                       BOS|                         ATL|               Delta|                 DL|                 Airbus A321|                     9120|             947|            coach|\n",
      "|980370cf27c89b40d...|2022-04-16|2022-04-17|            ATL|               BOS|     LA0NX0MC|       PT2H34M|          0|         False|       False|     True|  217.67|   248.60|             9|                947|                       1650203940|    2022-04-17T09:59:...|                     1650213180|  2022-04-17T12:33:...|                       BOS|                         ATL|               Delta|                 DL|                 Airbus A321|                     9240|             947|            coach|\n",
      "|79eda9f841e226a1e...|2022-04-16|2022-04-17|            ATL|               BOS|     VH0AUEL1|       PT2H38M|          0|         False|       False|     True|  217.67|   248.60|             7|                947|                       1650206700|    2022-04-17T10:45:...|                     1650216180|  2022-04-17T13:23:...|                       BOS|                         ATL|     JetBlue Airways|                 B6|                        null|                     9480|             947|            coach|\n",
      "|9335fae376c38bb61...|2022-04-16|2022-04-17|            ATL|               BOS|     V0AJZNN1|       PT4H12M|          0|         False|       False|    False|  213.02|   251.10|             3|                956|             1650198000||16502...|    2022-04-17T08:20:...|           1650203400||16502...|  2022-04-17T09:50:...|                  CLT||BOS|                    ATL||CLT|American Airlines...|             AA||AA|        Airbus A320||Airb...|               5400||7500|        228||728|     coach||coach|\n",
      "|3904bf87f2d1daf33...|2022-04-16|2022-04-17|            ATL|               BOS|     V0AJZNN1|       PT5H18M|          0|         False|       False|    False|  213.02|   251.10|             3|                956|             1650198000||16502...|    2022-04-17T08:20:...|           1650203400||16502...|  2022-04-17T09:50:...|                  CLT||BOS|                    ATL||CLT|American Airlines...|             AA||AA|        Airbus A320||Boei...|               5400||8280|        228||728|     coach||coach|\n",
      "|d93988734c44a3c07...|2022-04-16|2022-04-17|            ATL|               BOS|     V0AJZNN1|       PT5H32M|          0|         False|       False|    False|  213.02|   251.10|             7|                956|             1650193200||16502...|    2022-04-17T07:00:...|           1650198060||16502...|  2022-04-17T08:21:...|                  CLT||BOS|                    ATL||CLT|American Airlines...|             AA||AA|        Airbus A319||Airb...|               4860||7500|        228||728|     coach||coach|\n",
      "|562e7d5dd6ecbf150...|2022-04-16|2022-04-17|            ATL|               BOS|     V0AJZNN1|       PT6H38M|          0|         False|       False|    False|  213.02|   251.10|             7|                956|             1650193200||16502...|    2022-04-17T07:00:...|           1650198060||16502...|  2022-04-17T08:21:...|                  CLT||BOS|                    ATL||CLT|American Airlines...|             AA||AA|        Airbus A319||Boei...|               4860||8280|        228||728|     coach||coach|\n",
      "|c38a6e4b807d15541...|2022-04-16|2022-04-17|            ATL|               BOS|     VAA0AKEN|       PT4H46M|          0|         False|       False|    False|  213.02|   252.60|             1|                947|             1650187800||16501...|    2022-04-17T05:30:...|           1650194280||16502...|  2022-04-17T07:18:...|                  IAD||BOS|                    ATL||IAD|      United||United|             UA||UA|        Airbus A319||Boei...|               6480||5940|        541||406|     coach||coach|\n",
      "|f66d72ba3a5265766...|2022-04-16|2022-04-17|            ATL|               BOS|     V0AJZNN1|       PT5H45M|          0|         False|       False|    False|  213.02|   252.60|             3|               1462|             1650220740||16502...|    2022-04-17T14:39:...|           1650228840||16502...|  2022-04-17T15:54:...|                  ORD||BOS|                    ATL||ORD|American Airlines...|             AA||AA|        Embraer 175||Boei...|               8100||8340|        600||862|     coach||coach|\n",
      "|e7c4054e85cca9bc7...|2022-04-16|2022-04-17|            ATL|               BOS|     V0AJZNN1|       PT5H59M|          0|         False|       False|    False|  213.02|   252.60|             5|               1462|             1650232800||16502...|    2022-04-17T18:00:...|           1650240660||16502...|  2022-04-17T19:11:...|                  ORD||BOS|                    ATL||ORD|American Airlines...|             AA||AA|        Embraer 175||Boei...|               7860||8640|        600||862|     coach||coach|\n",
      "|5fa8c0f8b25eb24bf...|2022-04-16|2022-04-17|            ATL|               BOS|     V0AJZNN1|       PT7H18M|          0|         False|       False|    False|  213.02|   252.60|             3|               1462|             1650220740||16502...|    2022-04-17T14:39:...|           1650228840||16502...|  2022-04-17T15:54:...|                  ORD||BOS|                    ATL||ORD|American Airlines...|             AA||AA|        Embraer 175||Airb...|               8100||7920|        600||862|     coach||coach|\n",
      "|948d26b3e5658762c...|2022-04-16|2022-04-17|            ATL|               BOS|     VAA0AKEN|       PT8H10M|          0|         False|       False|    False|  213.02|   252.60|             2|               1462|             1650190200||16502...|    2022-04-17T06:10:...|           1650198000||16502...|  2022-04-17T07:20:...|                  ORD||BOS|                    ATL||ORD|      United||United|             UA||UA|        Embraer 175 (Enha...|               7800||8640|        600||862|     coach||coach|\n",
      "|cb345693479e84838...|2022-04-16|2022-04-17|            ATL|               BOS|          VNR|       PT5H39M|          0|         False|       False|    False|  183.00|   290.58|             0|               null|             1650187560||16501...|    2022-04-17T05:26:...|           1650194400||16502...|  2022-04-17T07:20:...|                  FLL||BOS|                    ATL||FLL|Spirit Airlines||...|             NK||NK|        AIRBUS INDUSTRIE ...|              6840||11100|      None||None|     coach||coach|\n",
      "|e1b95e4e6c997517f...|2022-04-16|2022-04-17|            ATL|               BOS|     KH0AUEY5|       PT2H38M|          0|         False|       False|     True|  265.58|   300.10|             7|                947|                       1650206700|    2022-04-17T10:45:...|                     1650216180|  2022-04-17T13:23:...|                       BOS|                         ATL|   American Airlines|                 AA|                        null|                     9480|             947|            coach|\n",
      "|eaf033a044596f0a7...|2022-04-16|2022-04-17|            ATL|               BOS|     L0AJZNN1|       PT4H17M|          0|         False|       False|    False|  260.47|   302.11|             1|                956|             1650233700||16502...|    2022-04-17T18:15:...|           1650238620||16502...|  2022-04-17T19:37:...|                  CLT||BOS|                    ATL||CLT|American Airlines...|             AA||AA|        Canadian Regional...|               4920||7620|        228||728|     coach||coach|\n",
      "|721d9a2f66fe479e7...|2022-04-16|2022-04-17|            ATL|               BOS|     L0AJZNN1|       PT4H36M|          0|         False|       False|    False|  260.47|   302.11|             1|                956|             1650207720||16502...|    2022-04-17T11:02:...|           1650212880||16502...|  2022-04-17T12:28:...|                  CLT||BOS|                    ATL||CLT|American Airlines...|             AA||AA|        Canadair Regional...|               5160||7860|        228||728|     coach||coach|\n",
      "|a9f012defb9227f69...|2022-04-16|2022-04-17|            ATL|               BOS|     L0AJZNN1|       PT4H45M|          0|         False|       False|    False|  260.47|   302.11|             1|                956|             1650226680||16502...|    2022-04-17T16:18:...|           1650230760||16502...|  2022-04-17T17:26:...|                  CLT||BOS|                    ATL||CLT|American Airlines...|             AA||AA|        Airbus A319||Boei...|               4080||7860|        228||728|     coach||coach|\n",
      "+--------------------+----------+----------+---------------+------------------+-------------+--------------+-----------+--------------+------------+---------+--------+---------+--------------+-------------------+---------------------------------+------------------------+-------------------------------+----------------------+--------------------------+----------------------------+--------------------+-------------------+----------------------------+-------------------------+----------------+-----------------+\n",
      "only showing top 20 rows\n",
      "\n"
     ]
    }
   ],
   "source": [
    "dataframe.show()"
   ]
  },
  {
   "cell_type": "markdown",
   "id": "371800c6",
   "metadata": {},
   "source": [
    "count number of rows"
   ]
  },
  {
   "cell_type": "code",
   "execution_count": 6,
   "id": "420999e0",
   "metadata": {},
   "outputs": [
    {
     "data": {
      "text/plain": [
       "13900000"
      ]
     },
     "execution_count": 6,
     "metadata": {},
     "output_type": "execute_result"
    }
   ],
   "source": [
    "dataframe.count()"
   ]
  },
  {
   "cell_type": "code",
   "execution_count": 7,
   "id": "48273bd6",
   "metadata": {},
   "outputs": [
    {
     "name": "stdout",
     "output_type": "stream",
     "text": [
      "root\n",
      " |-- legId: string (nullable = true)\n",
      " |-- searchDate: string (nullable = true)\n",
      " |-- flightDate: string (nullable = true)\n",
      " |-- startingAirport: string (nullable = true)\n",
      " |-- destinationAirport: string (nullable = true)\n",
      " |-- fareBasisCode: string (nullable = true)\n",
      " |-- travelDuration: string (nullable = true)\n",
      " |-- elapsedDays: string (nullable = true)\n",
      " |-- isBasicEconomy: string (nullable = true)\n",
      " |-- isRefundable: string (nullable = true)\n",
      " |-- isNonStop: string (nullable = true)\n",
      " |-- baseFare: string (nullable = true)\n",
      " |-- totalFare: string (nullable = true)\n",
      " |-- seatsRemaining: string (nullable = true)\n",
      " |-- totalTravelDistance: string (nullable = true)\n",
      " |-- segmentsDepartureTimeEpochSeconds: string (nullable = true)\n",
      " |-- segmentsDepartureTimeRaw: string (nullable = true)\n",
      " |-- segmentsArrivalTimeEpochSeconds: string (nullable = true)\n",
      " |-- segmentsArrivalTimeRaw: string (nullable = true)\n",
      " |-- segmentsArrivalAirportCode: string (nullable = true)\n",
      " |-- segmentsDepartureAirportCode: string (nullable = true)\n",
      " |-- segmentsAirlineName: string (nullable = true)\n",
      " |-- segmentsAirlineCode: string (nullable = true)\n",
      " |-- segmentsEquipmentDescription: string (nullable = true)\n",
      " |-- segmentsDurationInSeconds: string (nullable = true)\n",
      " |-- segmentsDistance: string (nullable = true)\n",
      " |-- segmentsCabinCode: string (nullable = true)\n",
      "\n"
     ]
    }
   ],
   "source": [
    "#show columns and their datatype\n",
    "dataframe.printSchema()"
   ]
  },
  {
   "cell_type": "code",
   "execution_count": null,
   "id": "d9c22e8e",
   "metadata": {},
   "outputs": [],
   "source": [
    "#def findNullNoneEmpty(dataframe):\n",
    "#    df = dataframe.select([count(when(col(c).contains('None') | \\\n",
    "#                            col(c).contains('NULL') | \\\n",
    "#                            (col(c) == '' ) | \\\n",
    "#                            col(c).isNull() | \\\n",
    "#                            isnan(c), c \n",
    "#                           )).alias(c)\n",
    "#                    for c in dataframe.columns])\n",
    "#    return df\n",
    "#null_df = findNullNoneEmpty(dataframe)\n",
    "#null_df.show()"
   ]
  },
  {
   "cell_type": "code",
   "execution_count": 16,
   "id": "e9d5d613",
   "metadata": {},
   "outputs": [
    {
     "data": {
      "text/plain": [
       "DataFrame[legId: string, searchDate: string, flightDate: string, startingAirport: string, destinationAirport: string, fareBasisCode: string, travelDuration: string, elapsedDays: string, isBasicEconomy: string, isRefundable: string, isNonStop: string, baseFare: string, totalFare: string, seatsRemaining: string, totalTravelDistance: int, segmentsDepartureTimeEpochSeconds: string, segmentsDepartureTimeRaw: string, segmentsArrivalTimeEpochSeconds: string, segmentsArrivalTimeRaw: string, segmentsArrivalAirportCode: string, segmentsDepartureAirportCode: string, segmentsAirlineName: string, segmentsAirlineCode: string, segmentsEquipmentDescription: string, segmentsDurationInSeconds: string, segmentsDistance: string, segmentsCabinCode: string]"
      ]
     },
     "execution_count": 16,
     "metadata": {},
     "output_type": "execute_result"
    }
   ],
   "source": [
    "#deal with missing values\n",
    "from pyspark.ml.feature import Imputer\n",
    "dataframe = dataframe.withColumn('totalTravelDistance', df['totalTravelDistance'].cast('integer'))\n",
    "imputer = Imputer(\n",
    "inputCols=['totalTravelDistance'],\n",
    "outputCols=['totalTravelDistance'])\n",
    "imputer.fit(dataframe).transform(dataframe)"
   ]
  },
  {
   "cell_type": "code",
   "execution_count": 8,
   "id": "443bf9d9",
   "metadata": {},
   "outputs": [],
   "source": [
    "#dataframe.summary().show(false)"
   ]
  },
  {
   "cell_type": "code",
   "execution_count": 9,
   "id": "13a26063",
   "metadata": {},
   "outputs": [],
   "source": [
    "#find any duplicated rows\n",
    "#dataframe.distinct().count()"
   ]
  },
  {
   "cell_type": "code",
   "execution_count": 14,
   "id": "8bcb6ac1",
   "metadata": {},
   "outputs": [],
   "source": [
    "#drop duplicated/irrelevant columns\n",
    "cols = (\"segmentsDistance\",\"segmentsEquipmentDescription\",\"segmentsArrivalTimeEpochSeconds\",\"segmentsDepartureTimeEpochSeconds\")\n",
    "df=dataframe.drop(*cols)"
   ]
  },
  {
   "cell_type": "code",
   "execution_count": 15,
   "id": "ac72d37c",
   "metadata": {},
   "outputs": [
    {
     "name": "stdout",
     "output_type": "stream",
     "text": [
      "root\n",
      " |-- legId: string (nullable = true)\n",
      " |-- searchDate: string (nullable = true)\n",
      " |-- flightDate: string (nullable = true)\n",
      " |-- startingAirport: string (nullable = true)\n",
      " |-- destinationAirport: string (nullable = true)\n",
      " |-- fareBasisCode: string (nullable = true)\n",
      " |-- travelDuration: string (nullable = true)\n",
      " |-- elapsedDays: string (nullable = true)\n",
      " |-- isBasicEconomy: string (nullable = true)\n",
      " |-- isRefundable: string (nullable = true)\n",
      " |-- isNonStop: string (nullable = true)\n",
      " |-- baseFare: string (nullable = true)\n",
      " |-- totalFare: string (nullable = true)\n",
      " |-- seatsRemaining: string (nullable = true)\n",
      " |-- totalTravelDistance: string (nullable = true)\n",
      " |-- segmentsDepartureTimeRaw: string (nullable = true)\n",
      " |-- segmentsArrivalTimeRaw: string (nullable = true)\n",
      " |-- segmentsArrivalAirportCode: string (nullable = true)\n",
      " |-- segmentsDepartureAirportCode: string (nullable = true)\n",
      " |-- segmentsAirlineName: string (nullable = true)\n",
      " |-- segmentsAirlineCode: string (nullable = true)\n",
      " |-- segmentsDurationInSeconds: string (nullable = true)\n",
      " |-- segmentsCabinCode: string (nullable = true)\n",
      "\n"
     ]
    }
   ],
   "source": [
    "df.printSchema()"
   ]
  },
  {
   "cell_type": "markdown",
   "id": "318c9267",
   "metadata": {},
   "source": [
    "change data to int, by default it is string"
   ]
  },
  {
   "cell_type": "code",
   "execution_count": 12,
   "id": "aaf0f8b3",
   "metadata": {},
   "outputs": [],
   "source": [
    "df = dataframe.withColumn(\"x\", dataframe[\"totalTravelDistance\"].cast('int')).withColumn(\"y\", dataframe[\"totalFare\"].cast('int'))"
   ]
  },
  {
   "cell_type": "code",
   "execution_count": 13,
   "id": "ccda35d4",
   "metadata": {},
   "outputs": [
    {
     "data": {
      "image/png": "[encoded data removed]",
      "text/plain": [
       "<Figure size 432x288 with 1 Axes>"
      ]
     },
     "metadata": {
      "needs_background": "light"
     },
     "output_type": "display_data"
    }
   ],
   "source": [
    "import matplotlib.pyplot as plt\n",
    "# taking sample of 0.1 of whole data\n",
    "# convert it to pandas dataframe \n",
    "sampled_data = df.select('x','y').sample(False, 0.1).toPandas()\n",
    "# and at the end lets use our beautiful matplotlib\n",
    "plt.scatter(sampled_data.x,sampled_data.y)\n",
    "plt.xlabel('distance')\n",
    "plt.ylabel('price')\n",
    "plt.title('relation of total travel distance and prices')\n",
    "plt.show()"
   ]
  },
  {
   "cell_type": "code",
   "execution_count": null,
   "id": "9e9798ba",
   "metadata": {},
   "outputs": [],
   "source": []
  }
 ],
 "metadata": {
  "kernelspec": {
   "display_name": "Python 3 (ipykernel)",
   "language": "python",
   "name": "python3"
  },
  "language_info": {
   "codemirror_mode": {
    "name": "ipython",
    "version": 3
   },
   "file_extension": ".py",
   "mimetype": "text/x-python",
   "name": "python",
   "nbconvert_exporter": "python",
   "pygments_lexer": "ipython3",
   "version": "3.9.12"
  }
 },
 "nbformat": 4,
 "nbformat_minor": 5
}

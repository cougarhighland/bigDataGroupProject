{
 "cells": [
  {
   "cell_type": "code",
   "execution_count": 1,
   "id": "d4a8dc0e",
   "metadata": {},
   "outputs": [
    {
     "data": {
      "text/plain": [
       "'C:\\\\spark\\\\spark-3.3.1-bin-hadoop2'"
      ]
     },
     "execution_count": 1,
     "metadata": {},
     "output_type": "execute_result"
    }
   ],
   "source": [
    "import findspark\n",
    "findspark.init()\n",
    "findspark.find()"
   ]
  },
  {
   "cell_type": "code",
   "execution_count": 2,
   "id": "4ac387d7",
   "metadata": {},
   "outputs": [],
   "source": [
    "from pyspark.sql import SparkSession\n",
    "from pyspark.sql.functions import *\n",
    "from pyspark.sql.types import *"
   ]
  },
  {
   "cell_type": "code",
   "execution_count": 3,
   "id": "13236a8f",
   "metadata": {},
   "outputs": [],
   "source": [
    "#Using the codes above, we built a spark session and set a name for the application. Then, the data was cached in off-heap memory to avoid storing it directly on disk, and the amount of memory was manually specified.\n",
    "spark = SparkSession.builder.appName('FlightPrices').config(\"spark.memory.offHeap.enabled\",\"true\").config(\"spark.memory.offHeap.size\",\"10g\").getOrCreate()"
   ]
  },
  {
   "cell_type": "code",
   "execution_count": 4,
   "id": "2568ce11",
   "metadata": {},
   "outputs": [],
   "source": [
    "#an escape character to avoid commas in the .csv file when parsing\n",
    "dataframe = spark.read.csv('./data.csv', header=True,escape=\"\\\"\")"
   ]
  },
  {
   "cell_type": "code",
   "execution_count": 5,
   "id": "c4b721d4",
   "metadata": {},
   "outputs": [
    {
     "name": "stdout",
     "output_type": "stream",
     "text": [
      "-RECORD 0-------------------------------------------------------------\n",
      " legId                             | 9ca0e81111c683bec1012473feefd28f \n",
      " searchDate                        | 2022-04-16                       \n",
      " flightDate                        | 2022-04-17                       \n",
      " startingAirport                   | ATL                              \n",
      " destinationAirport                | BOS                              \n",
      " fareBasisCode                     | LA0NX0MC                         \n",
      " travelDuration                    | PT2H29M                          \n",
      " elapsedDays                       | 0                                \n",
      " isBasicEconomy                    | False                            \n",
      " isRefundable                      | False                            \n",
      " isNonStop                         | True                             \n",
      " baseFare                          | 217.67                           \n",
      " totalFare                         | 248.60                           \n",
      " seatsRemaining                    | 9                                \n",
      " totalTravelDistance               | 947                              \n",
      " segmentsDepartureTimeEpochSeconds | 1650214620                       \n",
      " segmentsDepartureTimeRaw          | 2022-04-17T12:57:00.000-04:00    \n",
      " segmentsArrivalTimeEpochSeconds   | 1650223560                       \n",
      " segmentsArrivalTimeRaw            | 2022-04-17T15:26:00.000-04:00    \n",
      " segmentsArrivalAirportCode        | BOS                              \n",
      " segmentsDepartureAirportCode      | ATL                              \n",
      " segmentsAirlineName               | Delta                            \n",
      " segmentsAirlineCode               | DL                               \n",
      " segmentsEquipmentDescription      | Airbus A321                      \n",
      " segmentsDurationInSeconds         | 8940                             \n",
      " segmentsDistance                  | 947                              \n",
      " segmentsCabinCode                 | coach                            \n",
      "-RECORD 1-------------------------------------------------------------\n",
      " legId                             | 98685953630e772a098941b71906592b \n",
      " searchDate                        | 2022-04-16                       \n",
      " flightDate                        | 2022-04-17                       \n",
      " startingAirport                   | ATL                              \n",
      " destinationAirport                | BOS                              \n",
      " fareBasisCode                     | LA0NX0MC                         \n",
      " travelDuration                    | PT2H30M                          \n",
      " elapsedDays                       | 0                                \n",
      " isBasicEconomy                    | False                            \n",
      " isRefundable                      | False                            \n",
      " isNonStop                         | True                             \n",
      " baseFare                          | 217.67                           \n",
      " totalFare                         | 248.60                           \n",
      " seatsRemaining                    | 4                                \n",
      " totalTravelDistance               | 947                              \n",
      " segmentsDepartureTimeEpochSeconds | 1650191400                       \n",
      " segmentsDepartureTimeRaw          | 2022-04-17T06:30:00.000-04:00    \n",
      " segmentsArrivalTimeEpochSeconds   | 1650200400                       \n",
      " segmentsArrivalTimeRaw            | 2022-04-17T09:00:00.000-04:00    \n",
      " segmentsArrivalAirportCode        | BOS                              \n",
      " segmentsDepartureAirportCode      | ATL                              \n",
      " segmentsAirlineName               | Delta                            \n",
      " segmentsAirlineCode               | DL                               \n",
      " segmentsEquipmentDescription      | Airbus A321                      \n",
      " segmentsDurationInSeconds         | 9000                             \n",
      " segmentsDistance                  | 947                              \n",
      " segmentsCabinCode                 | coach                            \n",
      "-RECORD 2-------------------------------------------------------------\n",
      " legId                             | 98d90cbc32bfbb05c2fc32897c7c1087 \n",
      " searchDate                        | 2022-04-16                       \n",
      " flightDate                        | 2022-04-17                       \n",
      " startingAirport                   | ATL                              \n",
      " destinationAirport                | BOS                              \n",
      " fareBasisCode                     | LA0NX0MC                         \n",
      " travelDuration                    | PT2H30M                          \n",
      " elapsedDays                       | 0                                \n",
      " isBasicEconomy                    | False                            \n",
      " isRefundable                      | False                            \n",
      " isNonStop                         | True                             \n",
      " baseFare                          | 217.67                           \n",
      " totalFare                         | 248.60                           \n",
      " seatsRemaining                    | 9                                \n",
      " totalTravelDistance               | 947                              \n",
      " segmentsDepartureTimeEpochSeconds | 1650209700                       \n",
      " segmentsDepartureTimeRaw          | 2022-04-17T11:35:00.000-04:00    \n",
      " segmentsArrivalTimeEpochSeconds   | 1650218700                       \n",
      " segmentsArrivalTimeRaw            | 2022-04-17T14:05:00.000-04:00    \n",
      " segmentsArrivalAirportCode        | BOS                              \n",
      " segmentsDepartureAirportCode      | ATL                              \n",
      " segmentsAirlineName               | Delta                            \n",
      " segmentsAirlineCode               | DL                               \n",
      " segmentsEquipmentDescription      | Boeing 757-200                   \n",
      " segmentsDurationInSeconds         | 9000                             \n",
      " segmentsDistance                  | 947                              \n",
      " segmentsCabinCode                 | coach                            \n",
      "-RECORD 3-------------------------------------------------------------\n",
      " legId                             | 969a269d38eae583f455486fa90877b4 \n",
      " searchDate                        | 2022-04-16                       \n",
      " flightDate                        | 2022-04-17                       \n",
      " startingAirport                   | ATL                              \n",
      " destinationAirport                | BOS                              \n",
      " fareBasisCode                     | LA0NX0MC                         \n",
      " travelDuration                    | PT2H32M                          \n",
      " elapsedDays                       | 0                                \n",
      " isBasicEconomy                    | False                            \n",
      " isRefundable                      | False                            \n",
      " isNonStop                         | True                             \n",
      " baseFare                          | 217.67                           \n",
      " totalFare                         | 248.60                           \n",
      " seatsRemaining                    | 8                                \n",
      " totalTravelDistance               | 947                              \n",
      " segmentsDepartureTimeEpochSeconds | 1650218340                       \n",
      " segmentsDepartureTimeRaw          | 2022-04-17T13:59:00.000-04:00    \n",
      " segmentsArrivalTimeEpochSeconds   | 1650227460                       \n",
      " segmentsArrivalTimeRaw            | 2022-04-17T16:31:00.000-04:00    \n",
      " segmentsArrivalAirportCode        | BOS                              \n",
      " segmentsDepartureAirportCode      | ATL                              \n",
      " segmentsAirlineName               | Delta                            \n",
      " segmentsAirlineCode               | DL                               \n",
      " segmentsEquipmentDescription      | Airbus A321                      \n",
      " segmentsDurationInSeconds         | 9120                             \n",
      " segmentsDistance                  | 947                              \n",
      " segmentsCabinCode                 | coach                            \n",
      "-RECORD 4-------------------------------------------------------------\n",
      " legId                             | 980370cf27c89b40d2833a1d5afc9751 \n",
      " searchDate                        | 2022-04-16                       \n",
      " flightDate                        | 2022-04-17                       \n",
      " startingAirport                   | ATL                              \n",
      " destinationAirport                | BOS                              \n",
      " fareBasisCode                     | LA0NX0MC                         \n",
      " travelDuration                    | PT2H34M                          \n",
      " elapsedDays                       | 0                                \n",
      " isBasicEconomy                    | False                            \n",
      " isRefundable                      | False                            \n",
      " isNonStop                         | True                             \n",
      " baseFare                          | 217.67                           \n",
      " totalFare                         | 248.60                           \n",
      " seatsRemaining                    | 9                                \n",
      " totalTravelDistance               | 947                              \n",
      " segmentsDepartureTimeEpochSeconds | 1650203940                       \n",
      " segmentsDepartureTimeRaw          | 2022-04-17T09:59:00.000-04:00    \n",
      " segmentsArrivalTimeEpochSeconds   | 1650213180                       \n",
      " segmentsArrivalTimeRaw            | 2022-04-17T12:33:00.000-04:00    \n",
      " segmentsArrivalAirportCode        | BOS                              \n",
      " segmentsDepartureAirportCode      | ATL                              \n",
      " segmentsAirlineName               | Delta                            \n",
      " segmentsAirlineCode               | DL                               \n",
      " segmentsEquipmentDescription      | Airbus A321                      \n",
      " segmentsDurationInSeconds         | 9240                             \n",
      " segmentsDistance                  | 947                              \n",
      " segmentsCabinCode                 | coach                            \n",
      "only showing top 5 rows\n",
      "\n"
     ]
    }
   ],
   "source": [
    "dataframe.show(n=5, truncate=False, vertical=True)"
   ]
  },
  {
   "cell_type": "markdown",
   "id": "371800c6",
   "metadata": {},
   "source": [
    "count number of rows"
   ]
  },
  {
   "cell_type": "code",
   "execution_count": 6,
   "id": "420999e0",
   "metadata": {},
   "outputs": [
    {
     "data": {
      "text/plain": [
       "13900000"
      ]
     },
     "execution_count": 6,
     "metadata": {},
     "output_type": "execute_result"
    }
   ],
   "source": [
    "dataframe.count()"
   ]
  },
  {
   "cell_type": "code",
   "execution_count": 7,
   "id": "701cd4e8",
   "metadata": {},
   "outputs": [
    {
     "name": "stdout",
     "output_type": "stream",
     "text": [
      "root\n",
      " |-- legId: string (nullable = true)\n",
      " |-- searchDate: string (nullable = true)\n",
      " |-- flightDate: string (nullable = true)\n",
      " |-- startingAirport: string (nullable = true)\n",
      " |-- destinationAirport: string (nullable = true)\n",
      " |-- fareBasisCode: string (nullable = true)\n",
      " |-- travelDuration: string (nullable = true)\n",
      " |-- elapsedDays: string (nullable = true)\n",
      " |-- isBasicEconomy: string (nullable = true)\n",
      " |-- isRefundable: string (nullable = true)\n",
      " |-- isNonStop: string (nullable = true)\n",
      " |-- baseFare: string (nullable = true)\n",
      " |-- totalFare: string (nullable = true)\n",
      " |-- seatsRemaining: string (nullable = true)\n",
      " |-- totalTravelDistance: string (nullable = true)\n",
      " |-- segmentsDepartureTimeEpochSeconds: string (nullable = true)\n",
      " |-- segmentsDepartureTimeRaw: string (nullable = true)\n",
      " |-- segmentsArrivalTimeEpochSeconds: string (nullable = true)\n",
      " |-- segmentsArrivalTimeRaw: string (nullable = true)\n",
      " |-- segmentsArrivalAirportCode: string (nullable = true)\n",
      " |-- segmentsDepartureAirportCode: string (nullable = true)\n",
      " |-- segmentsAirlineName: string (nullable = true)\n",
      " |-- segmentsAirlineCode: string (nullable = true)\n",
      " |-- segmentsEquipmentDescription: string (nullable = true)\n",
      " |-- segmentsDurationInSeconds: string (nullable = true)\n",
      " |-- segmentsDistance: string (nullable = true)\n",
      " |-- segmentsCabinCode: string (nullable = true)\n",
      "\n"
     ]
    }
   ],
   "source": [
    "#show columns and their datatype\n",
    "dataframe.printSchema()"
   ]
  },
  {
   "cell_type": "code",
   "execution_count": 8,
   "id": "5bbd1b81",
   "metadata": {},
   "outputs": [],
   "source": [
    "#drop duplicated/irrelevant columns\n",
    "cols = (\"segmentsCabinCode\",\"segmentsDistance\",\"segmentsDurationInSeconds\",\"segmentsEquipmentDescription\",\"segmentsAirlineCode\",\"segmentsAirlineName\",\"segmentsDepartureAirportCode\",\"segmentsArrivalAirportCode\",\"segmentsArrivalTimeRaw\",\"segmentsArrivalTimeEpochSeconds\",\"segmentsDepartureTimeRaw\",\"segmentsDepartureTimeEpochSeconds\")\n",
    "df=dataframe.drop(*cols)"
   ]
  },
  {
   "cell_type": "code",
   "execution_count": 9,
   "id": "d346beff",
   "metadata": {},
   "outputs": [],
   "source": [
    "#def findNullNoneEmpty(dataframe):\n",
    "#    df = dataframe.select([count(when(col(c).contains('None') | \\\n",
    "#                            col(c).contains('NULL') | \\\n",
    "#                            (col(c) == '' ) | \\\n",
    "#                            col(c).isNull() | \\\n",
    "#                            isnan(c), c \n",
    "#                           )).alias(c)\n",
    "#                    for c in dataframe.columns])\n",
    "#    return df\n",
    "#null_df = findNullNoneEmpty(df)\n",
    "#null_df.show()"
   ]
  },
  {
   "cell_type": "code",
   "execution_count": 10,
   "id": "864a29d8",
   "metadata": {},
   "outputs": [],
   "source": [
    "#deal with missing values\n",
    "from pyspark.ml.feature import Imputer\n",
    "df = df.withColumn('totalTravelDistance', df['totalTravelDistance'].cast('integer'))\n",
    "imputer = Imputer(\n",
    "inputCols=['totalTravelDistance'],\n",
    "outputCols=['totalTravelDistance'])\n",
    "df=imputer.fit(df).transform(df)"
   ]
  },
  {
   "cell_type": "code",
   "execution_count": 11,
   "id": "c8bc06d8",
   "metadata": {},
   "outputs": [],
   "source": [
    "#drop all null rows\n",
    "df = df.dropna()"
   ]
  },
  {
   "cell_type": "code",
   "execution_count": null,
   "id": "384da714",
   "metadata": {},
   "outputs": [],
   "source": [
    "#find any duplicated rows\n",
    "df = df.distinct()"
   ]
  },
  {
   "cell_type": "code",
   "execution_count": null,
   "id": "04e3214d",
   "metadata": {},
   "outputs": [],
   "source": [
    "#Summary Statistics\n",
    "df.describe([\"totalTravelDistance\",\"totalFare\"]).show()"
   ]
  },
  {
   "cell_type": "code",
   "execution_count": null,
   "id": "df731325",
   "metadata": {},
   "outputs": [],
   "source": [
    "df.printSchema()"
   ]
  },
  {
   "cell_type": "code",
   "execution_count": null,
   "id": "e0826c6e",
   "metadata": {},
   "outputs": [],
   "source": [
    "df_100200 = df.select(df.totalFare, df.totalTravelDistance).filter(df.totalFare.between(100,200)).agg(avg(col(\"totalTravelDistance\"))).withColumnRenamed(\"avg(totalTravelDistance)\", \"avgDistance100200\")\n",
    "df_100200.show()"
   ]
  },
  {
   "cell_type": "code",
   "execution_count": null,
   "id": "da9fb5be",
   "metadata": {},
   "outputs": [],
   "source": [
    "df_200300 = df.select(df.totalFare, df.totalTravelDistance).filter(df.totalFare.between(200,300)).agg(avg(col(\"totalTravelDistance\"))).withColumnRenamed(\"avg(totalTravelDistance)\", \"avgDistance200300\")\n",
    "df_200300.show()"
   ]
  },
  {
   "cell_type": "code",
   "execution_count": null,
   "id": "e570b5c7",
   "metadata": {},
   "outputs": [],
   "source": [
    "df_300400 = df.select(df.totalFare, df.totalTravelDistance).filter(df.totalFare.between(300,400)).agg(avg(col(\"totalTravelDistance\"))).withColumnRenamed(\"avg(totalTravelDistance)\", \"avgDistance300400\")\n",
    "df_300400.show()"
   ]
  },
  {
   "cell_type": "code",
   "execution_count": null,
   "id": "fb23001e",
   "metadata": {},
   "outputs": [],
   "source": [
    "df_400500 = df.select(df.totalFare, df.totalTravelDistance).filter(df.totalFare.between(400,500)).agg(avg(col(\"totalTravelDistance\"))).withColumnRenamed(\"avg(totalTravelDistance)\", \"avgDistance400500\")\n",
    "df_400500.show()"
   ]
  },
  {
   "cell_type": "code",
   "execution_count": null,
   "id": "ddf52aa4",
   "metadata": {},
   "outputs": [],
   "source": [
    "df_500600 = df.select(df.totalFare, df.totalTravelDistance).filter(df.totalFare.between(500,600)).agg(avg(col(\"totalTravelDistance\"))).withColumnRenamed(\"avg(totalTravelDistance)\", \"avgDistance500600\")\n",
    "df_500600.show()"
   ]
  },
  {
   "cell_type": "code",
   "execution_count": null,
   "id": "41fea8e0",
   "metadata": {},
   "outputs": [],
   "source": [
    "df_600700 = df.select(df.totalFare, df.totalTravelDistance).filter(df.totalFare.between(600,700)).agg(avg(col(\"totalTravelDistance\"))).withColumnRenamed(\"avg(totalTravelDistance)\", \"avgDistance600700\")\n",
    "df_600700.show()"
   ]
  },
  {
   "cell_type": "code",
   "execution_count": null,
   "id": "cfdd2bf9",
   "metadata": {},
   "outputs": [],
   "source": [
    "df_700800 = df.select(df.totalFare, df.totalTravelDistance).filter(df.totalFare.between(700,800)).agg(avg(col(\"totalTravelDistance\"))).withColumnRenamed(\"avg(totalTravelDistance)\", \"avgDistance700800\")\n",
    "df_700800.show()"
   ]
  },
  {
   "cell_type": "code",
   "execution_count": null,
   "id": "4c7e3872",
   "metadata": {},
   "outputs": [],
   "source": [
    "df_800900 = df.select(df.totalFare, df.totalTravelDistance).filter(df.totalFare.between(800,900)).agg(avg(col(\"totalTravelDistance\"))).withColumnRenamed(\"avg(totalTravelDistance)\", \"avgDistance800900\")\n",
    "df_800900.show()"
   ]
  },
  {
   "cell_type": "code",
   "execution_count": null,
   "id": "6947ba6a",
   "metadata": {},
   "outputs": [],
   "source": [
    "df_9001000 = df.select(df.totalFare, df.totalTravelDistance).filter(df.totalFare.between(900,1000)).agg(avg(col(\"totalTravelDistance\"))).withColumnRenamed(\"avg(totalTravelDistance)\", \"avgDistance9001000\")\n",
    "df_9001000.show()"
   ]
  },
  {
   "cell_type": "code",
   "execution_count": null,
   "id": "49919b96",
   "metadata": {},
   "outputs": [],
   "source": [
    "df_all = df_100200.join(df_200300).join(df_300400).join(df_400500).join(df_500600).join(df_600700).join(df_700800).join(df_800900).join(df_9001000)\n"
   ]
  },
  {
   "cell_type": "code",
   "execution_count": null,
   "id": "72b3d3da",
   "metadata": {},
   "outputs": [],
   "source": []
  },
  {
   "cell_type": "code",
   "execution_count": null,
   "id": "52419ae3",
   "metadata": {},
   "outputs": [],
   "source": [
    "df_all = df_all.toPandas()"
   ]
  },
  {
   "cell_type": "code",
   "execution_count": null,
   "id": "bc6f00db",
   "metadata": {},
   "outputs": [],
   "source": [
    "df_all.plot.bar()"
   ]
  },
  {
   "cell_type": "markdown",
   "id": "318c9267",
   "metadata": {},
   "source": [
    "change data to int, by default it is string"
   ]
  },
  {
   "cell_type": "markdown",
   "id": "0b2e41b0",
   "metadata": {},
   "source": [
    "df = df.withColumn(\"x\", df[\"totalTravelDistance\"].cast('int')).withColumn(\"y\", df[\"totalFare\"].cast('int'))"
   ]
  },
  {
   "cell_type": "markdown",
   "id": "88697279",
   "metadata": {},
   "source": [
    "import matplotlib.pyplot as plt\n",
    "# taking sample of 0.1 of whole data\n",
    "# convert it to pandas dataframe \n",
    "sampled_data = df.select('x','y').sample(False, 0.1).toPandas()\n",
    "# and at the end lets use our beautiful matplotlib\n",
    "plt.scatter(sampled_data.x,sampled_data.y)\n",
    "plt.xlabel('distance')\n",
    "plt.ylabel('price')\n",
    "plt.title('relation of total travel distance and prices')\n",
    "plt.show()"
   ]
  },
  {
   "cell_type": "code",
   "execution_count": null,
   "id": "8ecc3d9e",
   "metadata": {},
   "outputs": [],
   "source": []
  }
 ],
 "metadata": {
  "kernelspec": {
   "display_name": "Python 3 (ipykernel)",
   "language": "python",
   "name": "python3"
  },
  "language_info": {
   "codemirror_mode": {
    "name": "ipython",
    "version": 3
   },
   "file_extension": ".py",
   "mimetype": "text/x-python",
   "name": "python",
   "nbconvert_exporter": "python",
   "pygments_lexer": "ipython3",
   "version": "3.9.12"
  }
 },
 "nbformat": 4,
 "nbformat_minor": 5
}
